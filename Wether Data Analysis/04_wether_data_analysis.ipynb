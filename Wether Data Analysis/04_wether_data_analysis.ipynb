{
 "cells": [
  {
   "cell_type": "code",
   "execution_count": 1,
   "id": "24060eed-8e91-4d30-907a-d877458a670e",
   "metadata": {},
   "outputs": [],
   "source": [
    "import numpy as np\n",
    "import pandas as pd\n",
    "import matplotlib.pyplot as plt"
   ]
  },
  {
   "cell_type": "markdown",
   "id": "5df7e96d-9df8-41d2-b252-7df25f00fbd5",
   "metadata": {},
   "source": [
    "df=pd.read_csv(\"weatherHistory.csv\")\n",
    "df"
   ]
  },
  {
   "cell_type": "markdown",
   "id": "b6aa2e55-d19a-4004-927b-6c81c9411976",
   "metadata": {},
   "source": [
    "#  Clean the Data\n",
    "Convert date column to datetime format.\n",
    "\n",
    "Fill or drop missing values.\n",
    "\n",
    "Remove irrelevant columns or outliers if necessary."
   ]
  },
  {
   "cell_type": "code",
   "execution_count": 2,
   "id": "b62b4c16-1007-414c-8944-d36daf8e3030",
   "metadata": {},
   "outputs": [],
   "source": [
    "df=pd.read_csv(\"weatherHistory.csv\")\n",
    "df = df.copy()\n",
    "df['Formatted Date'] = pd.to_datetime(df['Formatted Date'], utc=True)\n",
    "df = df.dropna()\n",
    "\n"
   ]
  },
  {
   "cell_type": "code",
   "execution_count": 3,
   "id": "52adca68-738c-4a7b-be44-3b2228b2f8e1",
   "metadata": {},
   "outputs": [
    {
     "name": "stdout",
     "output_type": "stream",
     "text": [
      "Formatted Date              0\n",
      "Summary                     0\n",
      "Precip Type                 0\n",
      "Temperature (C)             0\n",
      "Apparent Temperature (C)    0\n",
      "Humidity                    0\n",
      "Wind Speed (km/h)           0\n",
      "Wind Bearing (degrees)      0\n",
      "Visibility (km)             0\n",
      "Loud Cover                  0\n",
      "Pressure (millibars)        0\n",
      "Daily Summary               0\n",
      "dtype: int64\n"
     ]
    }
   ],
   "source": [
    "print(df.isnull().sum())"
   ]
  },
  {
   "cell_type": "markdown",
   "id": "2f4fa6a3-7e39-4e0b-a640-5d5b84d25e2f",
   "metadata": {},
   "source": [
    "# Basic Analysis\n",
    " Find average temperature, rainfall, and humidity.\n",
    "\n",
    " Find the highest and lowest temperatures recorded.\n",
    "\n",
    " Identify the rainiest day and driest day."
   ]
  },
  {
   "cell_type": "code",
   "execution_count": 4,
   "id": "eb39c13e-6342-4c65-8687-f5f667bcbd9d",
   "metadata": {},
   "outputs": [
    {
     "data": {
      "text/plain": [
       "np.float64(11.940975696760804)"
      ]
     },
     "execution_count": 4,
     "metadata": {},
     "output_type": "execute_result"
    }
   ],
   "source": [
    "avg_temp = df[\"Temperature (C)\"].mean()\n",
    "avg_temp"
   ]
  },
  {
   "cell_type": "code",
   "execution_count": 5,
   "id": "f730686a-a670-4e38-a1d4-3be551a734c1",
   "metadata": {},
   "outputs": [
    {
     "name": "stdout",
     "output_type": "stream",
     "text": [
      "higest temp is 39.90555555555555\n"
     ]
    }
   ],
   "source": [
    "hig_temp=df[\"Temperature (C)\"].max()\n",
    "print(\"higest temp is\", hig_temp)"
   ]
  },
  {
   "cell_type": "code",
   "execution_count": 6,
   "id": "93f9be03-1e3e-427e-86fe-97dfc8a59b17",
   "metadata": {},
   "outputs": [
    {
     "name": "stdout",
     "output_type": "stream",
     "text": [
      "lowest temp is -21.822222222222223\n"
     ]
    }
   ],
   "source": [
    "low_temp=df[\"Temperature (C)\"].min()\n",
    "print(\"lowest temp is\", low_temp)"
   ]
  },
  {
   "cell_type": "code",
   "execution_count": 7,
   "id": "2321bb69-e0bb-443f-9e36-8ac2576bf984",
   "metadata": {},
   "outputs": [
    {
     "name": "stdout",
     "output_type": "stream",
     "text": [
      "Highest temperature: 39.90555555555555 on dates:\n",
      "[Timestamp('2007-07-22 13:00:00+0000', tz='UTC')]\n",
      "Lowest temperature: -21.822222222222223 on dates:\n",
      "[Timestamp('2012-02-10 06:00:00+0000', tz='UTC')]\n"
     ]
    }
   ],
   "source": [
    "# OR\n",
    "# Find highest temperature and date\n",
    "max_temp = df['Temperature (C)'].max()\n",
    "max_temp_date = df.loc[df['Temperature (C)'] == max_temp, 'Formatted Date']\n",
    "\n",
    "# Find lowest temperature and date\n",
    "min_temp = df['Temperature (C)'].min()\n",
    "min_temp_date = df.loc[df['Temperature (C)'] == min_temp, 'Formatted Date']\n",
    "\n",
    "print(f\"Highest temperature: {max_temp} on dates:\\n{max_temp_date.to_list()}\")\n",
    "print(f\"Lowest temperature: {min_temp} on dates:\\n{min_temp_date.to_list()}\")\n"
   ]
  },
  {
   "cell_type": "code",
   "execution_count": 8,
   "id": "d65cf053-e77c-4157-9a72-ee0460273f22",
   "metadata": {},
   "outputs": [
    {
     "name": "stdout",
     "output_type": "stream",
     "text": [
      "Rainy Days:\n",
      "                  Formatted Date Precip Type\n",
      "0     2006-03-31 22:00:00+00:00        rain\n",
      "1     2006-03-31 23:00:00+00:00        rain\n",
      "2     2006-04-01 00:00:00+00:00        rain\n",
      "3     2006-04-01 01:00:00+00:00        rain\n",
      "4     2006-04-01 02:00:00+00:00        rain\n",
      "...                         ...         ...\n",
      "96448 2016-09-09 17:00:00+00:00        rain\n",
      "96449 2016-09-09 18:00:00+00:00        rain\n",
      "96450 2016-09-09 19:00:00+00:00        rain\n",
      "96451 2016-09-09 20:00:00+00:00        rain\n",
      "96452 2016-09-09 21:00:00+00:00        rain\n",
      "\n",
      "[85224 rows x 2 columns]\n"
     ]
    }
   ],
   "source": [
    "\n",
    "rainy_days = df[df[\"Precip Type\"].str.contains(\"rain\", na=False)]\n",
    "print(\"Rainy Days:\\n\", rainy_days[[\"Formatted Date\", \"Precip Type\"]])"
   ]
  },
  {
   "cell_type": "code",
   "execution_count": 9,
   "id": "a0014019-9034-4d8f-9cb2-5baddc0a16c6",
   "metadata": {},
   "outputs": [
    {
     "name": "stdout",
     "output_type": "stream",
     "text": [
      "Dry Days:\n",
      " Empty DataFrame\n",
      "Columns: [Formatted Date, Precip Type]\n",
      "Index: []\n"
     ]
    }
   ],
   "source": [
    "dry_days = df[~df[\"Precip Type\"].str.contains(\"rain|snow\", na=False)]\n",
    "print(\"Dry Days:\\n\", dry_days[[\"Formatted Date\", \"Precip Type\"]])\n"
   ]
  },
  {
   "cell_type": "markdown",
   "id": "ac0078c4-178d-491c-9db7-22738bf4f3a8",
   "metadata": {},
   "source": [
    "#  Task 4: Monthly & Yearly Trends\n",
    " Group data by month and calculate:\n",
    "\n",
    " Average monthly temperature\n",
    "\n",
    " Total monthly rainfall\n",
    "\n",
    " Group data by year and calculate:\n",
    "\n",
    " Yearly averages and trends\n",
    "\n",
    "\n"
   ]
  },
  {
   "cell_type": "code",
   "execution_count": 10,
   "id": "2ae04485-6f58-466e-aff5-7031ed309c23",
   "metadata": {},
   "outputs": [],
   "source": [
    "df['Formatted Date'] = pd.to_datetime(df['Formatted Date'], utc=True)"
   ]
  },
  {
   "cell_type": "code",
   "execution_count": 12,
   "id": "848ce563-0bbd-4745-b375-07744469d47f",
   "metadata": {},
   "outputs": [],
   "source": [
    "df['Year'] = df['Formatted Date'].dt.year\n",
    "df['Month'] = df['Formatted Date'].dt.month"
   ]
  },
  {
   "cell_type": "code",
   "execution_count": 13,
   "id": "86fe7dae-e480-4166-beeb-c4f01a68c15b",
   "metadata": {},
   "outputs": [
    {
     "name": "stdout",
     "output_type": "stream",
     "text": [
      "Yearly Averages:\n",
      "       Temperature (C)  Apparent Temperature (C)  Humidity  Wind Speed (km/h)  \\\n",
      "Year                                                                           \n",
      "2005         0.577778                 -4.050000  0.890000          17.114300   \n",
      "2006        11.215225                 10.158189  0.767349          10.189128   \n",
      "2007        12.134677                 11.062986  0.689647          10.824162   \n",
      "2008        12.161819                 11.053128  0.701239          11.304172   \n",
      "2009        12.269682                 11.070866  0.707247          11.507326   \n",
      "2010        11.200176                 10.097002  0.796861          11.014343   \n",
      "2011        11.524934                 10.584490  0.736008           9.898596   \n",
      "2012        11.949909                 10.700025  0.689784          11.243317   \n",
      "2013        11.941017                 10.825509  0.754197          10.970036   \n",
      "2014        12.528228                 11.627649  0.748571          10.501276   \n",
      "2015        12.312088                 11.341286  0.732354          10.735590   \n",
      "2016        12.123330                 10.972451  0.760310          10.663883   \n",
      "\n",
      "      Wind Bearing (degrees)  Visibility (km)  Loud Cover  \\\n",
      "Year                                                        \n",
      "2005              140.000000         9.982000         0.0   \n",
      "2006              189.339726         9.757280         0.0   \n",
      "2007              194.106393        10.408192         0.0   \n",
      "2008              193.860997        10.266882         0.0   \n",
      "2009              180.477740        10.002187         0.0   \n",
      "2010              192.078780         9.140282         0.0   \n",
      "2011              189.334475         9.508237         0.0   \n",
      "2012              187.552598        10.341903         0.0   \n",
      "2013              187.862557        10.892672         0.0   \n",
      "2014              178.241064        11.320400         0.0   \n",
      "2015              184.084589        10.914116         0.0   \n",
      "2016              185.666191        11.482873         0.0   \n",
      "\n",
      "      Pressure (millibars)      Month  \n",
      "Year                                   \n",
      "2005           1016.660000  12.000000  \n",
      "2006            992.545486   6.526027  \n",
      "2007           1001.639412   6.526027  \n",
      "2008           1007.734488   6.513661  \n",
      "2009           1002.605055   6.526027  \n",
      "2010           1004.815439   6.530055  \n",
      "2011           1014.183506   6.526027  \n",
      "2012            999.203753   6.547738  \n",
      "2013           1004.951297   6.526027  \n",
      "2014            987.277688   6.525865  \n",
      "2015           1005.297210   6.526027  \n",
      "2016           1014.785590   6.353788  \n"
     ]
    }
   ],
   "source": [
    "yearly_group = df.groupby('Year').mean(numeric_only=True)\n",
    "print(\"Yearly Averages:\\n\", yearly_group)\n"
   ]
  },
  {
   "cell_type": "code",
   "execution_count": 14,
   "id": "8f742456-3437-445c-b281-02998df374c3",
   "metadata": {},
   "outputs": [
    {
     "name": "stdout",
     "output_type": "stream",
     "text": [
      "Monthly Averages:\n",
      "        Temperature (C)  Apparent Temperature (C)  Humidity  Wind Speed (km/h)  \\\n",
      "Month                                                                           \n",
      "1             0.815678                 -1.938761  0.850698          11.515865   \n",
      "2             2.166880                 -0.555908  0.813407          12.180815   \n",
      "3             6.914976                  5.082583  0.702849          13.415825   \n",
      "4            12.774927                 12.161853  0.640416          11.876811   \n",
      "5            16.876281                 16.734692  0.692102          10.933110   \n",
      "6            20.728510                 20.755415  0.686418           9.632453   \n",
      "7            22.965462                 22.977605  0.639593           9.637124   \n",
      "8            22.339134                 22.264600  0.635300           8.942707   \n",
      "9            17.503458                 17.389856  0.689163           9.610204   \n",
      "10           11.432515                 10.807315  0.774790           9.915806   \n",
      "11            6.582581                  5.012628  0.827858          10.968606   \n",
      "12            1.625086                 -0.960443  0.870398          11.094578   \n",
      "\n",
      "       Wind Bearing (degrees)  Visibility (km)  Loud Cover  \\\n",
      "Month                                                        \n",
      "1                  180.460655         7.835825         0.0   \n",
      "2                  188.733253         8.730536         0.0   \n",
      "3                  186.632698        10.922231         0.0   \n",
      "4                  186.261285        11.793878         0.0   \n",
      "5                  188.095701        11.884933         0.0   \n",
      "6                  202.804924        11.994000         0.0   \n",
      "7                  202.937049        12.188605         0.0   \n",
      "8                  195.211135        12.454307         0.0   \n",
      "9                  187.515025        11.598414         0.0   \n",
      "10                 177.246781         9.864652         0.0   \n",
      "11                 172.753710         8.228284         0.0   \n",
      "12                 181.143084         6.769961         0.0   \n",
      "\n",
      "       Pressure (millibars)         Year  \n",
      "Month                                     \n",
      "1               1006.245222  2011.000000  \n",
      "2               1003.925126  2011.009646  \n",
      "3               1001.564999  2011.000000  \n",
      "4               1010.078481  2010.990054  \n",
      "5               1003.284645  2010.991994  \n",
      "6               1002.019582  2011.000000  \n",
      "7               1008.562854  2010.998900  \n",
      "8               1001.470591  2010.997076  \n",
      "9               1000.835433  2011.000000  \n",
      "10              1002.202325  2010.783939  \n",
      "11              1012.382500  2010.977806  \n",
      "12               985.781311  2010.998656  \n"
     ]
    }
   ],
   "source": [
    "monthly_group = df.groupby('Month').mean(numeric_only=True)\n",
    "print(\"Monthly Averages:\\n\", monthly_group)\n"
   ]
  },
  {
   "cell_type": "code",
   "execution_count": 16,
   "id": "a759c2a6-9e64-41b3-89a1-9c57fdde2a4b",
   "metadata": {},
   "outputs": [
    {
     "name": "stdout",
     "output_type": "stream",
     "text": [
      "Year-Month Averages:\n",
      "             Temperature (C)  Apparent Temperature (C)  Humidity  \\\n",
      "Year Month                                                        \n",
      "2005 12            0.577778                 -4.050000  0.890000   \n",
      "2006 1            -1.677942                 -4.173708  0.834610   \n",
      "     2            -0.065394                 -2.990716  0.843467   \n",
      "     3             4.559274                  1.969780  0.778737   \n",
      "     4            12.635031                 12.098827  0.728625   \n",
      "...                     ...                       ...       ...   \n",
      "2016 8            21.420296                 21.383094  0.674046   \n",
      "     9            18.467924                 18.355833  0.688833   \n",
      "     10           10.593141                  9.825775  0.827951   \n",
      "     11            5.158800                  2.860089  0.848847   \n",
      "     12            1.239158                 -2.017272  0.887981   \n",
      "\n",
      "            Wind Speed (km/h)  Wind Bearing (degrees)  Visibility (km)  \\\n",
      "Year Month                                                               \n",
      "2005 12             17.114300              140.000000         9.982000   \n",
      "2006 1               8.894211              161.018817         7.894064   \n",
      "     2              10.957008              197.886905         7.418794   \n",
      "     3              14.421488              195.059140         9.602590   \n",
      "     4              10.930670              191.877778        10.626760   \n",
      "...                       ...                     ...              ...   \n",
      "2016 8               9.151378              184.563172        13.948140   \n",
      "     9               6.849029              177.738889        13.723260   \n",
      "     10             11.075846              206.046914         9.208206   \n",
      "     11             10.507636              163.690511         8.725824   \n",
      "     12             11.024860              179.064603         7.460627   \n",
      "\n",
      "            Loud Cover  Pressure (millibars)  \n",
      "Year Month                                    \n",
      "2005 12            0.0           1016.660000  \n",
      "2006 1             0.0           1021.204960  \n",
      "     2             0.0            995.183914  \n",
      "     3             0.0            976.436263  \n",
      "     4             0.0           1013.493694  \n",
      "...                ...                   ...  \n",
      "2016 8             0.0           1018.026398  \n",
      "     9             0.0           1017.969736  \n",
      "     10            0.0           1017.725457  \n",
      "     11            0.0           1019.215737  \n",
      "     12            0.0           1019.946339  \n",
      "\n",
      "[133 rows x 8 columns]\n"
     ]
    }
   ],
   "source": [
    "year_month_group = df.groupby(['Year','Month']).mean(numeric_only=True)\n",
    "print(\"Year-Month Averages:\\n\", year_month_group)\n"
   ]
  },
  {
   "cell_type": "code",
   "execution_count": null,
   "id": "a1cc61c2-23f8-43c1-8a4b-c009001d4d3c",
   "metadata": {},
   "outputs": [],
   "source": []
  },
  {
   "cell_type": "code",
   "execution_count": null,
   "id": "71066976-e4f4-4d96-ab5e-60a2eec285e7",
   "metadata": {},
   "outputs": [],
   "source": []
  }
 ],
 "metadata": {
  "kernelspec": {
   "display_name": "Python 3 (ipykernel)",
   "language": "python",
   "name": "python3"
  },
  "language_info": {
   "codemirror_mode": {
    "name": "ipython",
    "version": 3
   },
   "file_extension": ".py",
   "mimetype": "text/x-python",
   "name": "python",
   "nbconvert_exporter": "python",
   "pygments_lexer": "ipython3",
   "version": "3.13.2"
  }
 },
 "nbformat": 4,
 "nbformat_minor": 5
}
